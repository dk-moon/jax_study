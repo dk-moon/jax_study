{
 "cells": [
  {
   "cell_type": "markdown",
   "metadata": {},
   "source": [
    "# Import Libraries"
   ]
  },
  {
   "cell_type": "code",
   "execution_count": 1,
   "metadata": {},
   "outputs": [],
   "source": [
    "import jax\n",
    "import jax.numpy as jnp\n",
    "from sklearn.datasets import load_iris\n",
    "from sklearn.model_selection import train_test_split\n",
    "from sklearn.preprocessing import OneHotEncoder"
   ]
  },
  {
   "cell_type": "markdown",
   "metadata": {},
   "source": [
    "# 데이터 준비\n",
    "- Iris 데이터셋을 사용하여 분류 문제 해결"
   ]
  },
  {
   "cell_type": "code",
   "execution_count": 2,
   "metadata": {},
   "outputs": [
    {
     "name": "stderr",
     "output_type": "stream",
     "text": [
      "Platform 'METAL' is experimental and not all JAX functionality may be correctly supported!\n"
     ]
    },
    {
     "name": "stdout",
     "output_type": "stream",
     "text": [
      "Metal device set to: Apple M2\n",
      "\n",
      "systemMemory: 16.00 GB\n",
      "maxCacheSize: 5.33 GB\n",
      "\n"
     ]
    },
    {
     "name": "stderr",
     "output_type": "stream",
     "text": [
      "WARNING: All log messages before absl::InitializeLog() is called are written to STDERR\n",
      "W0000 00:00:1732282714.723858  963293 mps_client.cc:510] WARNING: JAX Apple GPU support is experimental and not all JAX functionality is correctly supported!\n",
      "I0000 00:00:1732282714.737170  963293 service.cc:145] XLA service 0x158314e20 initialized for platform METAL (this does not guarantee that XLA will be used). Devices:\n",
      "I0000 00:00:1732282714.737181  963293 service.cc:153]   StreamExecutor device (0): Metal, <undefined>\n",
      "I0000 00:00:1732282714.738540  963293 mps_client.cc:406] Using Simple allocator.\n",
      "I0000 00:00:1732282714.738554  963293 mps_client.cc:384] XLA backend will use up to 11452858368 bytes on device 0 for SimpleAllocator.\n"
     ]
    }
   ],
   "source": [
    "# 데이터 로드 및 전처리\n",
    "iris = load_iris()\n",
    "X = iris.data\n",
    "y = iris.target\n",
    "\n",
    "# 원-핫 인코딩\n",
    "encoder = OneHotEncoder(sparse_output=False)\n",
    "y = encoder.fit_transform(y.reshape(-1, 1))\n",
    "\n",
    "# 훈련/테스트 데이터 분리\n",
    "X_train, X_test, y_train, y_test = train_test_split(X, y, test_size=0.2, random_state=42)\n",
    "\n",
    "# JAX 배열로 변환\n",
    "X_train = jnp.array(X_train)\n",
    "X_test = jnp.array(X_test)\n",
    "y_train = jnp.array(y_train)\n",
    "y_test = jnp.array(y_test)"
   ]
  },
  {
   "cell_type": "markdown",
   "metadata": {},
   "source": [
    "# 모델 정의\n",
    "- 신경망의 파라미터와 예측 함수를 정의"
   ]
  },
  {
   "cell_type": "code",
   "execution_count": 3,
   "metadata": {},
   "outputs": [],
   "source": [
    "# 가중치 초기화 함수\n",
    "def init_params(key, input_dim, hidden_dim, output_dim):\n",
    "    key1, key2, key3 = jax.random.split(key, 3)\n",
    "    W1 = jax.random.normal(key1, (input_dim, hidden_dim))\n",
    "    b1 = jnp.zeros(hidden_dim)\n",
    "    W2 = jax.random.normal(key2, (hidden_dim, output_dim))\n",
    "    b2 = jnp.zeros(output_dim)\n",
    "    return W1, b1, W2, b2\n",
    "\n",
    "# 신경망 예측 함수\n",
    "def predict(params, x):\n",
    "    W1, b1, W2, b2 = params\n",
    "    hidden = jax.nn.relu(jnp.dot(x, W1) + b1)\n",
    "    logits = jnp.dot(hidden, W2) + b2\n",
    "    return logits"
   ]
  },
  {
   "cell_type": "markdown",
   "metadata": {},
   "source": [
    "# 손실 함수 및 그래디언트 계산\n",
    "- 손실 함수(크로스 엔트로피)와 그래디언트를 정의"
   ]
  },
  {
   "cell_type": "code",
   "execution_count": 4,
   "metadata": {},
   "outputs": [],
   "source": [
    "# 크로스 엔트로피 손실\n",
    "def loss_fn(params, x, y):\n",
    "    logits = predict(params, x)\n",
    "    probs = jax.nn.softmax(logits)\n",
    "    return -jnp.mean(jnp.sum(y * jnp.log(probs), axis=1))\n",
    "\n",
    "# 그래디언트 계산\n",
    "grad_fn = jax.grad(loss_fn)"
   ]
  },
  {
   "cell_type": "markdown",
   "metadata": {},
   "source": [
    "# 학습 루프\n",
    "- JAX로 학습 루프 구현"
   ]
  },
  {
   "cell_type": "code",
   "execution_count": 5,
   "metadata": {},
   "outputs": [
    {
     "name": "stdout",
     "output_type": "stream",
     "text": [
      "Epoch 0, Loss: 18.9897\n",
      "Epoch 10, Loss: 1.8351\n",
      "Epoch 20, Loss: 1.6515\n",
      "Epoch 30, Loss: 1.5376\n",
      "Epoch 40, Loss: 1.4198\n",
      "Epoch 50, Loss: 1.3060\n",
      "Epoch 60, Loss: 1.1891\n",
      "Epoch 70, Loss: 1.0735\n",
      "Epoch 80, Loss: 0.9633\n",
      "Epoch 90, Loss: 0.8597\n"
     ]
    }
   ],
   "source": [
    "# 하이퍼파라미터\n",
    "learning_rate = 0.01\n",
    "epochs = 100\n",
    "hidden_dim = 16\n",
    "\n",
    "# 모델 초기화\n",
    "key = jax.random.PRNGKey(42)\n",
    "params = init_params(key, input_dim=4, hidden_dim=hidden_dim, output_dim=3)\n",
    "\n",
    "# 학습 루프\n",
    "for epoch in range(epochs):\n",
    "    grads = grad_fn(params, X_train, y_train)  # 그래디언트 계산\n",
    "    params = [(p - learning_rate * g) for p, g in zip(params, grads)]  # 파라미터 업데이트\n",
    "\n",
    "    if epoch % 10 == 0:\n",
    "        loss = loss_fn(params, X_train, y_train)\n",
    "        print(f\"Epoch {epoch}, Loss: {loss:.4f}\")"
   ]
  },
  {
   "cell_type": "markdown",
   "metadata": {},
   "source": [
    "# 모델 평가\n",
    "- 테스트 데이터에서 성능 평가"
   ]
  },
  {
   "cell_type": "code",
   "execution_count": 6,
   "metadata": {},
   "outputs": [
    {
     "name": "stdout",
     "output_type": "stream",
     "text": [
      "Test Accuracy: 0.7000\n"
     ]
    }
   ],
   "source": [
    "# 예측 함수\n",
    "def accuracy(params, x, y):\n",
    "    logits = predict(params, x)\n",
    "    preds = jnp.argmax(logits, axis=1)\n",
    "    labels = jnp.argmax(y, axis=1)\n",
    "    return jnp.mean(preds == labels)\n",
    "\n",
    "acc = accuracy(params, X_test, y_test)\n",
    "print(f\"Test Accuracy: {acc:.4f}\")"
   ]
  },
  {
   "cell_type": "code",
   "execution_count": null,
   "metadata": {},
   "outputs": [],
   "source": []
  }
 ],
 "metadata": {
  "kernelspec": {
   "display_name": "jax-metal",
   "language": "python",
   "name": "python3"
  },
  "language_info": {
   "codemirror_mode": {
    "name": "ipython",
    "version": 3
   },
   "file_extension": ".py",
   "mimetype": "text/x-python",
   "name": "python",
   "nbconvert_exporter": "python",
   "pygments_lexer": "ipython3",
   "version": "3.11.10"
  }
 },
 "nbformat": 4,
 "nbformat_minor": 2
}
